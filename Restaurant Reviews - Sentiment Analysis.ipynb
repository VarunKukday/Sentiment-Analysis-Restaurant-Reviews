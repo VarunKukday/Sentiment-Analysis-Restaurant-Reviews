{
 "cells": [
  {
   "cell_type": "code",
   "execution_count": 229,
   "metadata": {},
   "outputs": [],
   "source": [
    "# type your code here\n",
    "import numpy as np\n",
    "import pandas as pd\n",
    "import seaborn as sns\n",
    "import matplotlib.pyplot as plt\n",
    "plt.rcParams['figure.figsize'] = [15,8]\n",
    "import scipy.stats as stats\n",
    "from warnings import filterwarnings\n",
    "filterwarnings('ignore')"
   ]
  },
  {
   "cell_type": "markdown",
   "metadata": {},
   "source": [
    "## There is a significant use of classification based algorithms to solve problems like Sentiment Analysis and Chatbot Creation.\n",
    "\n",
    "## The example that we will cover today belongs from the domain of Natural Language Processing and it will use classification based algorithms to make sense out of the textual data.\n",
    "\n",
    "\n",
    "# Restaurant Review Classification System\n",
    "\n",
    "## The data preprocessing step is crucial part of the Data Science spectrum. Depending upon the type of data, the preprocessing steps vary.\n",
    "\n",
    "### Continuous or Categorical --------> Data Preprocessing\n",
    "### Images or Videos -----------------> Image Preprocessing\n",
    "### Textual Data ---------------------> Natural Language Processing\n",
    "\n",
    "## Data Preprocessing is a broad step which is subjective to the problem we are solving and the data we have."
   ]
  },
  {
   "cell_type": "code",
   "execution_count": 230,
   "metadata": {},
   "outputs": [
    {
     "data": {
      "text/html": [
       "<div>\n",
       "<style scoped>\n",
       "    .dataframe tbody tr th:only-of-type {\n",
       "        vertical-align: middle;\n",
       "    }\n",
       "\n",
       "    .dataframe tbody tr th {\n",
       "        vertical-align: top;\n",
       "    }\n",
       "\n",
       "    .dataframe thead th {\n",
       "        text-align: right;\n",
       "    }\n",
       "</style>\n",
       "<table border=\"1\" class=\"dataframe\">\n",
       "  <thead>\n",
       "    <tr style=\"text-align: right;\">\n",
       "      <th></th>\n",
       "      <th>Review</th>\n",
       "      <th>Liked</th>\n",
       "    </tr>\n",
       "  </thead>\n",
       "  <tbody>\n",
       "    <tr>\n",
       "      <th>0</th>\n",
       "      <td>Wow... Loved this place.</td>\n",
       "      <td>1</td>\n",
       "    </tr>\n",
       "    <tr>\n",
       "      <th>1</th>\n",
       "      <td>Crust is not good.</td>\n",
       "      <td>0</td>\n",
       "    </tr>\n",
       "    <tr>\n",
       "      <th>2</th>\n",
       "      <td>Not tasty and the texture was just nasty.</td>\n",
       "      <td>0</td>\n",
       "    </tr>\n",
       "    <tr>\n",
       "      <th>3</th>\n",
       "      <td>Stopped by during the late May bank holiday of...</td>\n",
       "      <td>1</td>\n",
       "    </tr>\n",
       "    <tr>\n",
       "      <th>4</th>\n",
       "      <td>The selection on the menu was great and so wer...</td>\n",
       "      <td>1</td>\n",
       "    </tr>\n",
       "  </tbody>\n",
       "</table>\n",
       "</div>"
      ],
      "text/plain": [
       "                                              Review  Liked\n",
       "0                           Wow... Loved this place.      1\n",
       "1                                 Crust is not good.      0\n",
       "2          Not tasty and the texture was just nasty.      0\n",
       "3  Stopped by during the late May bank holiday of...      1\n",
       "4  The selection on the menu was great and so wer...      1"
      ]
     },
     "execution_count": 230,
     "metadata": {},
     "output_type": "execute_result"
    }
   ],
   "source": [
    "data = pd.read_csv('Restaurant_Reviews.tsv',sep='\\t')\n",
    "data.head()"
   ]
  },
  {
   "cell_type": "code",
   "execution_count": 231,
   "metadata": {},
   "outputs": [
    {
     "data": {
      "text/plain": [
       "(1000, 2)"
      ]
     },
     "execution_count": 231,
     "metadata": {},
     "output_type": "execute_result"
    }
   ],
   "source": [
    "data.shape"
   ]
  },
  {
   "cell_type": "markdown",
   "metadata": {},
   "source": [
    "\n",
    "By inspecting the data, we understand that it is a typical \n",
    "binary classification problem wherein we have to predict sentiments\n",
    "associated with a particular review.\n",
    "\n",
    "* Positive Review: 1\n",
    "* Negative Review: 0\n",
    "\n",
    "The only problem is that the input data (feature matrix) is not\n",
    "continuous or categorical in nature. It is actually textual.\n",
    "In order to preprocess the data so that a machine learning\n",
    "algorithm can make sense out of it, we need to apply certain\n",
    "nlp techniques.\n",
    "\n",
    "The general steps to preprocess textual data\n",
    "\n",
    "1. Remove all the numbers, punctuations, emojis and unwanted \n",
    "    characters.\n",
    "2. Getting all the data into a similar case (lower case).\n",
    "3. Remove all the unwanted words like preprositions, conjunctions,\n",
    "    determiners, pronouns and fillers etc.\n",
    "4. Perform stemming or lemmatization.\n",
    "5. Select an nlp model to represent the data (Bag or Words, TF-IDF Word Vector etc).\n",
    "\n",
    "## Test Review to understand all the preprocessing steps ##\n",
    "    \n",
    "**\"The food here was totally delicious!! *Smiling emoji*. 100% \\\n",
    "recommended\"**\n",
    "\n",
    "1. The food here was totally delicious recommended\n",
    "\n",
    "2. the food here was totally delicious recommended\n",
    "\n",
    "3. food totally delicious recommended\n",
    "\n",
    "Stemming vs Lemmatization\n",
    "\n",
    "Stemming trims down a word syntax wise to return the root word\n",
    "Lemmatization trims down a word semantic wise to return the root word\n",
    "\n",
    "Sample three review\n",
    "\n",
    "\"I love the food here.\"\n",
    "\"I'm loving it.\"\n",
    "\"I loved the food here.\"\n",
    "\n",
    "In the dataset, for positive predictors we can consider \n",
    "{love, loving, loved} all three but a better approach to save space\n",
    "and time complexity would be to consider the root word only.\n",
    "\n",
    "{love, loving, loved} ----> lov / love (Depends on the library)\n",
    "\n",
    "{Good, Better, Best} ---> Stemming does not makes sense here.\n",
    "Lemmatization would derive the root word semantically (meaning wise)\n",
    "\n",
    "{Good, Better, Best} ----> good\n",
    "\n",
    "4. food total delici recommend\n",
    "\n",
    "5. Once preprocessing is done, select the bag of words model to \n",
    "    convert textual data into a sparse matrix\n",
    "    \n",
    "Bag of Words in Action\n",
    "\n",
    "food : 0\n",
    "total : 1\n",
    "delici : 2\n",
    "recommend : 3\n",
    "\n",
    "Note: We have only preprocessed one review and the bag of words model\n",
    "    gives 4 unique integer labels. Now suppose we have 1 lac reviews,\n",
    "    in this case the bag of words model might return few lac unique\n",
    "    integers for unique words.\n",
    "    \n",
    "Some other review: \"Food was extremely tasty\"\n",
    "After NLP: \"food extreme tasty\"\n",
    "\n",
    "extreme: 4\n",
    "tasty: 5\n",
    "\n",
    "After all unique words have been assigned unique labels, we create a \n",
    "sparse matrix where the columns represent all the words and the rows\n",
    "represent a particular review.\n",
    "\n",
    "Columns are all the unique words\n",
    "\n",
    "* **Columns -> 0   1   2   3   4   5   6   7   8   9   10  11  12  13  14  15  16**\n",
    "* **Row 1 ->   1   1   1   1   0   0   0   0   0   0   0   0   0   0   0   0   0**\n",
    "* **Row 2 ->   1   0   0   0   1   1   0   0   0   0   0   0   0   0   0   0   0**\n",
    "\n",
    "Fill 1 if the review contains the word from the column else put 0\n",
    "\n",
    "Now we will actually apply all the aforementioned steps. For which\n",
    "we need a special library known as nltk (natural language toolkit)\n",
    "We will also use re library that is regular expressions library"
   ]
  },
  {
   "cell_type": "code",
   "execution_count": 232,
   "metadata": {},
   "outputs": [],
   "source": [
    "import re\n",
    "import nltk"
   ]
  },
  {
   "cell_type": "code",
   "execution_count": 233,
   "metadata": {
    "scrolled": true
   },
   "outputs": [
    {
     "name": "stderr",
     "output_type": "stream",
     "text": [
      "[nltk_data] Downloading package stopwords to\n",
      "[nltk_data]     C:\\Users\\hp\\AppData\\Roaming\\nltk_data...\n",
      "[nltk_data]   Package stopwords is already up-to-date!\n"
     ]
    },
    {
     "data": {
      "text/plain": [
       "True"
      ]
     },
     "execution_count": 233,
     "metadata": {},
     "output_type": "execute_result"
    }
   ],
   "source": [
    "nltk.download('stopwords')"
   ]
  },
  {
   "cell_type": "markdown",
   "metadata": {},
   "source": [
    "### Stopwords is a module in nltk that contains all the unwanted words like he, she, it, when, was, where, the, a, an etc"
   ]
  },
  {
   "cell_type": "code",
   "execution_count": 234,
   "metadata": {},
   "outputs": [],
   "source": [
    "from nltk.stem.porter import PorterStemmer\n",
    "from nltk.corpus import stopwords"
   ]
  },
  {
   "cell_type": "code",
   "execution_count": 235,
   "metadata": {},
   "outputs": [
    {
     "data": {
      "text/plain": [
       "'Wow... Loved this place.'"
      ]
     },
     "execution_count": 235,
     "metadata": {},
     "output_type": "execute_result"
    }
   ],
   "source": [
    "data['Review'][0]"
   ]
  },
  {
   "cell_type": "markdown",
   "metadata": {},
   "source": [
    "In regular expression: [^a-zA-Z] means catch everything which is not\n",
    "in the range of small a to small z and Capital A to Capital Z.\n",
    "^ (Carrot symbol) is used for negation."
   ]
  },
  {
   "cell_type": "code",
   "execution_count": 236,
   "metadata": {},
   "outputs": [
    {
     "data": {
      "text/plain": [
       "'Wow    Loved this place '"
      ]
     },
     "execution_count": 236,
     "metadata": {},
     "output_type": "execute_result"
    }
   ],
   "source": [
    "temp = re.sub('[^a-zA-Z]',' ',data['Review'][0])\n",
    "temp"
   ]
  },
  {
   "cell_type": "code",
   "execution_count": 237,
   "metadata": {},
   "outputs": [
    {
     "data": {
      "text/plain": [
       "'wow    loved this place '"
      ]
     },
     "execution_count": 237,
     "metadata": {},
     "output_type": "execute_result"
    }
   ],
   "source": [
    "temp = temp.lower()\n",
    "temp"
   ]
  },
  {
   "cell_type": "code",
   "execution_count": 238,
   "metadata": {},
   "outputs": [
    {
     "data": {
      "text/plain": [
       "['wow', 'loved', 'this', 'place']"
      ]
     },
     "execution_count": 238,
     "metadata": {},
     "output_type": "execute_result"
    }
   ],
   "source": [
    "temp = temp.split()\n",
    "temp"
   ]
  },
  {
   "cell_type": "code",
   "execution_count": 239,
   "metadata": {},
   "outputs": [
    {
     "data": {
      "text/plain": [
       "['wow', 'loved', 'place']"
      ]
     },
     "execution_count": 239,
     "metadata": {},
     "output_type": "execute_result"
    }
   ],
   "source": [
    "t1 = [word for word in temp if not word in set(stopwords.words('english'))]\n",
    "t1"
   ]
  },
  {
   "cell_type": "code",
   "execution_count": 240,
   "metadata": {},
   "outputs": [],
   "source": [
    "ps = PorterStemmer()"
   ]
  },
  {
   "cell_type": "code",
   "execution_count": 241,
   "metadata": {},
   "outputs": [
    {
     "data": {
      "text/plain": [
       "['wow', 'love', 'place']"
      ]
     },
     "execution_count": 241,
     "metadata": {},
     "output_type": "execute_result"
    }
   ],
   "source": [
    "t2 = [ps.stem(word) for word in temp if not word in set(stopwords.words('english'))]\n",
    "t2"
   ]
  },
  {
   "cell_type": "code",
   "execution_count": 242,
   "metadata": {},
   "outputs": [
    {
     "data": {
      "text/plain": [
       "['wow', 'love', 'place']"
      ]
     },
     "execution_count": 242,
     "metadata": {},
     "output_type": "execute_result"
    }
   ],
   "source": [
    "temp = [ps.stem(word) for word in temp if not word in set(stopwords.words('english'))]\n",
    "temp"
   ]
  },
  {
   "cell_type": "code",
   "execution_count": 243,
   "metadata": {},
   "outputs": [
    {
     "data": {
      "text/plain": [
       "'wow love place'"
      ]
     },
     "execution_count": 243,
     "metadata": {},
     "output_type": "execute_result"
    }
   ],
   "source": [
    "temp = ' '.join(temp)\n",
    "temp"
   ]
  },
  {
   "cell_type": "code",
   "execution_count": 244,
   "metadata": {},
   "outputs": [],
   "source": [
    "clean_reviews = []"
   ]
  },
  {
   "cell_type": "code",
   "execution_count": 245,
   "metadata": {
    "scrolled": false
   },
   "outputs": [
    {
     "data": {
      "text/plain": [
       "['wow love place',\n",
       " 'crust good',\n",
       " 'tasti textur nasti',\n",
       " 'stop late may bank holiday rick steve recommend love',\n",
       " 'select menu great price']"
      ]
     },
     "execution_count": 245,
     "metadata": {},
     "output_type": "execute_result"
    }
   ],
   "source": [
    "clean_reviews = []\n",
    "for i in range(data.shape[0]):\n",
    "    temp = re.sub('[^a-zA-Z]',' ',data['Review'][i])\n",
    "    temp = temp.lower()\n",
    "    temp = temp.split()\n",
    "    temp = [ps.stem(word) for word in temp if not word in set(stopwords.words('english'))]\n",
    "    temp = ' '.join(temp)\n",
    "    clean_reviews.append(temp)\n",
    "clean_reviews[:5]"
   ]
  },
  {
   "cell_type": "markdown",
   "metadata": {},
   "source": [
    "### For the BOW Model we will use CountVectorizer class from sklearn"
   ]
  },
  {
   "cell_type": "code",
   "execution_count": 246,
   "metadata": {},
   "outputs": [],
   "source": [
    "from sklearn.feature_extraction.text import CountVectorizer\n",
    "cv = CountVectorizer()"
   ]
  },
  {
   "cell_type": "code",
   "execution_count": 247,
   "metadata": {},
   "outputs": [],
   "source": [
    "x = cv.fit_transform(clean_reviews)"
   ]
  },
  {
   "cell_type": "code",
   "execution_count": 248,
   "metadata": {
    "scrolled": true
   },
   "outputs": [
    {
     "data": {
      "text/plain": [
       "array([[0, 0, 0, ..., 0, 0, 0],\n",
       "       [0, 0, 0, ..., 0, 0, 0],\n",
       "       [0, 0, 0, ..., 0, 0, 0],\n",
       "       ...,\n",
       "       [0, 0, 0, ..., 0, 0, 0],\n",
       "       [0, 0, 0, ..., 0, 0, 0],\n",
       "       [0, 0, 0, ..., 0, 0, 0]], dtype=int64)"
      ]
     },
     "execution_count": 248,
     "metadata": {},
     "output_type": "execute_result"
    }
   ],
   "source": [
    "x = x.toarray()\n",
    "x"
   ]
  },
  {
   "cell_type": "markdown",
   "metadata": {},
   "source": [
    "### Q. If you want to know what are these 1565 words which have been made into a column as a sparse matrix then you can use this syntax"
   ]
  },
  {
   "cell_type": "code",
   "execution_count": 249,
   "metadata": {
    "scrolled": true
   },
   "outputs": [
    {
     "name": "stdout",
     "output_type": "stream",
     "text": [
      "['absolut', 'absolutley', 'accid', 'accommod', 'accomod', 'accordingli', 'account', 'ach', 'acknowledg', 'across']\n"
     ]
    }
   ],
   "source": [
    "print(cv.get_feature_names()[:10])"
   ]
  },
  {
   "cell_type": "markdown",
   "metadata": {},
   "source": [
    "### Note : Statistics is the study of general trends and not special exceptions. In some cases, the column number could become extensively large for us to work with. In that case we only use a selected fragment of columns and drop everything else by using an arguement."
   ]
  },
  {
   "cell_type": "markdown",
   "metadata": {},
   "source": [
    "from sklearn.feature_extraction.text import CountVectorizer\n",
    "cv = CountVectorizer(max_features=100)"
   ]
  },
  {
   "cell_type": "markdown",
   "metadata": {},
   "source": [
    "x = cv.fit_transform(clean_reviews)"
   ]
  },
  {
   "cell_type": "markdown",
   "metadata": {},
   "source": [
    "x = x.toarray()\n",
    "x"
   ]
  },
  {
   "cell_type": "markdown",
   "metadata": {},
   "source": [
    "print(cv.get_feature_names())"
   ]
  },
  {
   "cell_type": "markdown",
   "metadata": {},
   "source": [
    "### Note : If you decrease the No. of columns, then performance of your model would also decrease but speed and efficiency will increase. There is a tradeoff that we establish between No. of columns and Model Accuracy."
   ]
  },
  {
   "cell_type": "code",
   "execution_count": 250,
   "metadata": {},
   "outputs": [],
   "source": [
    "from sklearn.feature_extraction.text import CountVectorizer\n",
    "cv = CountVectorizer()"
   ]
  },
  {
   "cell_type": "code",
   "execution_count": 251,
   "metadata": {},
   "outputs": [],
   "source": [
    "x = cv.fit_transform(clean_reviews)"
   ]
  },
  {
   "cell_type": "code",
   "execution_count": 252,
   "metadata": {},
   "outputs": [
    {
     "data": {
      "text/plain": [
       "array([[0, 0, 0, ..., 0, 0, 0],\n",
       "       [0, 0, 0, ..., 0, 0, 0],\n",
       "       [0, 0, 0, ..., 0, 0, 0],\n",
       "       ...,\n",
       "       [0, 0, 0, ..., 0, 0, 0],\n",
       "       [0, 0, 0, ..., 0, 0, 0],\n",
       "       [0, 0, 0, ..., 0, 0, 0]], dtype=int64)"
      ]
     },
     "execution_count": 252,
     "metadata": {},
     "output_type": "execute_result"
    }
   ],
   "source": [
    "x = x.toarray()\n",
    "x"
   ]
  },
  {
   "cell_type": "code",
   "execution_count": 253,
   "metadata": {
    "scrolled": true
   },
   "outputs": [
    {
     "name": "stdout",
     "output_type": "stream",
     "text": [
      "['absolut', 'absolutley', 'accid', 'accommod', 'accomod', 'accordingli', 'account', 'ach', 'acknowledg', 'across', 'actual', 'ad', 'afford', 'afternoon', 'ago', 'ahead', 'airlin', 'airport', 'ala', 'albondiga', 'allergi', 'almond', 'almost', 'alon', 'also', 'although', 'alway', 'amaz', 'ambianc', 'ambienc', 'amount', 'ampl', 'andddd', 'angri', 'annoy', 'anoth', 'anticip', 'anymor', 'anyon', 'anyth', 'anytim', 'anyway', 'apart', 'apolog', 'app', 'appal', 'appar', 'appeal', 'appet', 'appetit', 'appl', 'approv', 'area', 'arepa', 'aria', 'around', 'array', 'arriv', 'articl', 'ask', 'assur', 'ate', 'atmospher', 'atroci', 'attach', 'attack', 'attent', 'attitud', 'auju', 'authent', 'averag', 'avocado', 'avoid', 'aw', 'away', 'awesom', 'awkward', 'awkwardli', 'ayc', 'az', 'baba', 'babi', 'bachi', 'back', 'bacon', 'bad', 'bagel', 'bakeri', 'baklava', 'ball', 'bamboo', 'banana', 'bank', 'bar', 'bare', 'bargain', 'bartend', 'base', 'basebal', 'basic', 'batch', 'bathroom', 'batter', 'bay', 'bbq', 'bean', 'beat', 'beateou', 'beauti', 'becom', 'beef', 'beer', 'begin', 'behind', 'believ', 'bellagio', 'belli', 'besid', 'best', 'better', 'beyond', 'big', 'bigger', 'biggest', 'bill', 'bing', 'bird', 'biscuit', 'bisqu', 'bit', 'bitch', 'bite', 'black', 'blah', 'blame', 'bland', 'blandest', 'blanket', 'block', 'bloddi', 'bloodi', 'bloodiest', 'blow', 'blown', 'blue', 'boba', 'bode', 'boil', 'bone', 'book', 'boot', 'bore', 'bother', 'bottom', 'bouchon', 'bought', 'bowl', 'box', 'boy', 'boyfriend', 'bread', 'break', 'breakfast', 'breez', 'brick', 'bring', 'brisket', 'brother', 'brought', 'brownish', 'brunch', 'bruschetta', 'brushfir', 'bu', 'buck', 'buffet', 'bug', 'build', 'buldogi', 'bunch', 'burger', 'burn', 'burritto', 'busi', 'bussel', 'butter', 'buy', 'bye', 'caballero', 'caesar', 'caf', 'cafe', 'cake', 'calamari', 'call', 'calligraphi', 'came', 'camelback', 'cannoli', 'cannot', 'cant', 'cape', 'caper', 'car', 'carb', 'care', 'carli', 'carpaccio', 'cart', 'cartel', 'case', 'cash', 'cashew', 'cashier', 'casino', 'caterpillar', 'caught', 'caus', 'cavier', 'certainli', 'chai', 'chain', 'chang', 'char', 'charcoal', 'charg', 'charm', 'cheap', 'cheat', 'check', 'cheek', 'chees', 'cheeseburg', 'cheesecurd', 'chef', 'chewi', 'chicken', 'chines', 'chip', 'chipolt', 'chipotl', 'chocol', 'choos', 'choux', 'chow', 'christma', 'cibo', 'circumst', 'claim', 'class', 'classi', 'classic', 'clean', 'climb', 'close', 'club', 'clue', 'cocktail', 'coconut', 'cod', 'coffe', 'cold', 'colder', 'colleg', 'color', 'combin', 'combo', 'come', 'comfort', 'common', 'compani', 'companion', 'complain', 'complaint', 'complet', 'compliment', 'con', 'concept', 'concern', 'conclus', 'condiment', 'connisseur', 'connoisseur', 'consid', 'consist', 'construct', 'contain', 'continu', 'conveni', 'cook', 'cool', 'corn', 'corpor', 'correct', 'cost', 'costco', 'cotta', 'could', 'count', 'coupl', 'coupon', 'cours', 'court', 'courteou', 'cover', 'cow', 'cozi', 'cr', 'crab', 'cram', 'cranberri', 'crave', 'crawfish', 'crazi', 'cream', 'creami', 'crema', 'crepe', 'crisp', 'crispi', 'crostini', 'crouton', 'crowd', 'crumbi', 'crust', 'crusti', 'crystal', 'cuisin', 'curri', 'custom', 'cut', 'cute', 'daili', 'damn', 'dark', 'date', 'daughter', 'day', 'dead', 'deal', 'decent', 'decid', 'decis', 'decor', 'dedic', 'deep', 'deepli', 'def', 'defin', 'definit', 'degre', 'del', 'delic', 'delici', 'delicioso', 'delight', 'delish', 'deliv', 'deliveri', 'denni', 'describ', 'descript', 'deserv', 'desir', 'despic', 'despit', 'dessert', 'deuchebaggeri', 'devin', 'die', 'differ', 'dime', 'dine', 'dinner', 'dip', 'dirt', 'dirti', 'disagre', 'disappoint', 'disapppoint', 'disast', 'disbelief', 'discount', 'disgrac', 'disgust', 'dish', 'dispens', 'disrespect', 'divers', 'do', 'dog', 'dollar', 'done', 'dont', 'donut', 'door', 'doubl', 'doubt', 'douchey', 'dough', 'doughi', 'downright', 'downsid', 'downtown', 'drag', 'drastic', 'draw', 'dream', 'drench', 'dress', 'dri', 'driest', 'drink', 'drip', 'drive', 'drop', 'drunk', 'duck', 'dude', 'due', 'duo', 'dust', 'dylan', 'easili', 'eat', 'eaten', 'eclect', 'ed', 'edibl', 'edinburgh', 'edit', 'eel', 'eew', 'effici', 'effort', 'egg', 'eggplant', 'either', 'elegantli', 'elk', 'els', 'elsewher', 'email', 'employe', 'empti', 'end', 'english', 'enjoy', 'enough', 'ensu', 'enthusiast', 'entir', 'entre', 'equal', 'especi', 'establish', 'etc', 'ethic', 'eve', 'even', 'event', 'ever', 'everi', 'everyon', 'everyth', 'everywher', 'exactli', 'excalibur', 'exceed', 'excel', 'except', 'excus', 'expand', 'expect', 'expens', 'experi', 'experienc', 'expert', 'exquisit', 'extens', 'extra', 'extraordinari', 'extrem', 'eye', 'fabul', 'fact', 'fail', 'fair', 'fairli', 'falafel', 'fall', 'famili', 'familiar', 'famou', 'fan', 'fanci', 'fantast', 'far', 'fare', 'fast', 'fat', 'fav', 'favor', 'favorit', 'fear', 'feel', 'fell', 'fella', 'fellow', 'felt', 'fianc', 'figur', 'filet', 'fill', 'fillet', 'final', 'find', 'fine', 'finger', 'finish', 'firebal', 'firehous', 'first', 'fish', 'five', 'flair', 'flat', 'flavor', 'flavorless', 'flavour', 'fli', 'flirt', 'flop', 'flower', 'fluffi', 'fo', 'focus', 'folk', 'fondu', 'food', 'foot', 'forev', 'forget', 'forth', 'forti', 'forward', 'found', 'four', 'francisco', 'freak', 'free', 'freez', 'frenchman', 'fresh', 'fri', 'friday', 'friend', 'friendli', 'front', 'frozen', 'fruit', 'frustrat', 'fs', 'fuck', 'full', 'fun', 'funni', 'furthermor', 'fuzzi', 'ga', 'ganoush', 'garden', 'garlic', 'gave', 'gc', 'gem', 'gener', 'genuin', 'get', 'giant', 'girlfriend', 'give', 'given', 'glad', 'glanc', 'glass', 'glove', 'gluten', 'go', 'goat', 'godfath', 'gold', 'golden', 'gone', 'good', 'googl', 'gooodd', 'gordon', 'got', 'gotten', 'gourmet', 'grab', 'grain', 'grandmoth', 'gratitud', 'gratuiti', 'greas', 'greasi', 'great', 'greatest', 'greedi', 'greek', 'green', 'greet', 'grill', 'gringo', 'gristl', 'groceri', 'gross', 'ground', 'group', 'grow', 'guacamol', 'guess', 'guest', 'guy', 'gyro', 'ha', 'hair', 'half', 'halibut', 'hamburg', 'han', 'hand', 'handl', 'handmad', 'hanker', 'happen', 'happi', 'happier', 'hard', 'hardest', 'hardli', 'hate', 'haunt', 'hawaiian', 'head', 'healthi', 'heard', 'heart', 'heat', 'heimer', 'held', 'hell', 'hella', 'hello', 'help', 'herea', 'hi', 'high', 'highli', 'highlight', 'hilari', 'hip', 'hiro', 'hit', 'hole', 'holiday', 'home', 'homemad', 'honeslti', 'honest', 'honestli', 'honor', 'hook', 'hope', 'horribl', 'hospit', 'host', 'hostess', 'hot', 'hottest', 'hour', 'hous', 'howev', 'huevo', 'huge', 'human', 'humili', 'hummu', 'hunan', 'hungri', 'hurri', 'husband', 'hut', 'ian', 'ice', 'idea', 'ignor', 'im', 'imagin', 'immedi', 'impecc', 'impress', 'inch', 'includ', 'inconsider', 'incred', 'indian', 'indic', 'indoor', 'industri', 'inexpens', 'inflat', 'inform', 'ingredi', 'insan', 'insid', 'inspir', 'instantli', 'instead', 'insult', 'interest', 'interior', 'invit', 'ironman', 'italian', 'item', 'jalapeno', 'jamaican', 'japanes', 'jeff', 'jenni', 'jerk', 'jewel', 'job', 'joey', 'join', 'joint', 'joke', 'joy', 'judg', 'juic', 'juri', 'kabuki', 'kept', 'key', 'khao', 'kid', 'kiddo', 'killer', 'kind', 'kitchen', 'know', 'known', 'la', 'lack', 'ladi', 'larg', 'larger', 'last', 'lastli', 'late', 'later', 'latt', 'law', 'lawyer', 'lb', 'least', 'leather', 'leav', 'left', 'leftov', 'leg', 'legit', 'lemon', 'less', 'let', 'letdown', 'lettuc', 'level', 'life', 'light', 'lighter', 'lightli', 'like', 'lil', 'limit', 'line', 'list', 'liter', 'littl', 'live', 'lobster', 'locat', 'long', 'longer', 'look', 'lordi', 'lost', 'lot', 'loudli', 'love', 'lover', 'low', 'lox', 'loyal', 'luck', 'luke', 'lukewarm', 'lunch', 'mac', 'macaron', 'made', 'madhous', 'madison', 'magazin', 'magic', 'main', 'maintain', 'make', 'mall', 'man', 'manag', 'mandalay', 'mango', 'mani', 'margarita', 'mari', 'maria', 'market', 'marrow', 'martini', 'massiv', 'may', 'mayb', 'mayo', 'meal', 'mean', 'meat', 'meatbal', 'meatloaf', 'mediocr', 'mediterranean', 'medium', 'meet', 'meh', 'mein', 'mellow', 'melt', 'memori', 'mention', 'menu', 'mesquit', 'mess', 'metro', 'mexican', 'mgm', 'mid', 'middl', 'might', 'mile', 'militari', 'milk', 'milkshak', 'min', 'mind', 'minut', 'mirag', 'miss', 'mistak', 'mix', 'mmmm', 'modern', 'moist', 'mojito', 'mom', 'money', 'monster', 'month', 'mood', 'mortifi', 'mostli', 'mouth', 'movi', 'moz', 'mozzarella', 'much', 'muffin', 'multi', 'multipl', 'mushroom', 'music', 'mussel', 'must', 'naan', 'nacho', 'name', 'nan', 'nargil', 'nasti', 'nay', 'nearli', 'neat', 'need', 'needless', 'neglig', 'neighborhood', 'neither', 'never', 'new', 'next', 'nice', 'nicest', 'night', 'nigiri', 'ninja', 'nobu', 'noca', 'non', 'none', 'noodl', 'north', 'note', 'noth', 'nude', 'number', 'nut', 'nutshel', 'nyc', 'obvious', 'occas', 'occasion', 'offer', 'offici', 'oh', 'ohhh', 'oil', 'ok', 'old', 'older', 'oliv', 'omelet', 'omg', 'one', 'onion', 'open', 'oper', 'opinion', 'opportun', 'oppos', 'option', 'order', 'origin', 'other', 'otherwis', 'otto', 'outdoor', 'outrag', 'outshin', 'outsid', 'outstand', 'outta', 'oven', 'overal', 'overcook', 'overhaul', 'overpr', 'overwhelm', 'own', 'owner', 'oyster', 'pace', 'pack', 'paid', 'palat', 'pale', 'palm', 'pan', 'pancak', 'panna', 'paper', 'par', 'paradis', 'parent', 'part', 'parti', 'particular', 'pass', 'past', 'pasta', 'pastri', 'pat', 'patio', 'patron', 'patti', 'pay', 'pe', 'pea', 'peach', 'peanut', 'pear', 'pecan', 'penn', 'peopl', 'pepper', 'perfect', 'perfectli', 'perform', 'perhap', 'perpar', 'person', 'petrifi', 'petti', 'phenomen', 'philadelphia', 'pho', 'phoenix', 'piano', 'pictur', 'piec', 'pile', 'pine', 'pineappl', 'pink', 'pissd', 'pita', 'pizza', 'place', 'plain', 'plantain', 'plastic', 'plate', 'plater', 'platter', 'play', 'pleas', 'pleasant', 'pleasur', 'plethora', 'plu', 'pneumat', 'point', 'poison', 'polit', 'poop', 'poor', 'poorli', 'pop', 'pork', 'portion', 'posit', 'possibl', 'postino', 'potato', 'pour', 'powder', 'power', 'prefer', 'prepar', 'present', 'pretti', 'price', 'pricey', 'prime', 'privileg', 'pro', 'probabl', 'problem', 'proclaim', 'profession', 'profiterol', 'profound', 'promis', 'prompt', 'promptli', 'properli', 'proven', 'provid', 'pub', 'public', 'publicli', 'puck', 'pull', 'pumpkin', 'pur', 'pure', 'put', 'quaint', 'qualifi', 'qualiti', 'quantiti', 'quick', 'quickli', 'quit', 'ramsey', 'ranch', 'ranchero', 'rapidli', 'rare', 'raspberri', 'rate', 'rather', 'ratio', 'rave', 'ravoli', 'read', 'reader', 'real', 'realiz', 'realli', 'reason', 'recal', 'receiv', 'recent', 'recommend', 'red', 'redeem', 'reduct', 'refil', 'refrain', 'refresh', 'refri', 'refus', 'regist', 'regular', 'regularli', 'reheat', 'relationship', 'relax', 'relleno', 'reloc', 'rememb', 'remind', 'replenish', 'request', 'reserv', 'rest', 'restaraunt', 'restaur', 'return', 'review', 'revisit', 'rge', 'ri', 'rib', 'ribey', 'rice', 'rich', 'rick', 'ridicul', 'right', 'ring', 'rins', 'rip', 'risotto', 'roast', 'rock', 'roll', 'room', 'rotat', 'round', 'rowdi', 'rubber', 'rude', 'run', 'rush', 'ryan', 'sad', 'sadli', 'saffron', 'saganaki', 'said', 'sal', 'salad', 'salmon', 'salsa', 'salt', 'salti', 'sampl', 'san', 'sandwich', 'sangria', 'sashimi', 'sat', 'satifi', 'satisfi', 'sauc', 'saus', 'save', 'say', 'scallop', 'scene', 'scottsdal', 'scream', 'screw', 'seafood', 'seal', 'season', 'seat', 'second', 'section', 'see', 'seem', 'seen', 'select', 'self', 'send', 'sens', 'sergeant', 'serious', 'serivc', 'serv', 'server', 'servic', 'set', 'sever', 'sewer', 'sexi', 'shall', 'sharpli', 'shawarrrrrrma', 'shirt', 'shock', 'shoe', 'shoot', 'shop', 'short', 'shot', 'show', 'shower', 'shrimp', 'sick', 'side', 'sign', 'silent', 'similar', 'similarli', 'simpl', 'simpli', 'sinc', 'singl', 'sit', 'six', 'skimp', 'slaw', 'slice', 'slow', 'small', 'smaller', 'smashburg', 'smear', 'smell', 'smoke', 'smooth', 'smoothi', 'soggi', 'soi', 'solid', 'solidifi', 'somehow', 'someon', 'someth', 'somethat', 'somewhat', 'son', 'song', 'soon', 'soooo', 'sooooo', 'soooooo', 'sore', 'sorri', 'sound', 'soundtrack', 'soup', 'sour', 'southwest', 'space', 'spaghetti', 'special', 'speedi', 'spend', 'spice', 'spici', 'spicier', 'spinach', 'sport', 'spot', 'spotti', 'spring', 'sprout', 'staff', 'stale', 'standard', 'star', 'start', 'starv', 'station', 'stay', 'steak', 'steakhous', 'steiner', 'step', 'steve', 'stick', 'still', 'stink', 'stir', 'stomach', 'stood', 'stop', 'store', 'strang', 'stranger', 'strawberri', 'street', 'stretch', 'strike', 'string', 'strip', 'struck', 'struggl', 'stuf', 'stuff', 'stupid', 'style', 'styrofoam', 'sub', 'subpar', 'subway', 'succul', 'suck', 'sucker', 'suffer', 'sugar', 'sugari', 'suggest', 'summar', 'summari', 'summer', 'sun', 'sunday', 'sunglass', 'super', 'suppos', 'sure', 'surpris', 'sushi', 'sweet', 'swung', 'tabl', 'taco', 'tailor', 'take', 'takeout', 'talk', 'tap', 'tapa', 'tartar', 'tast', 'tasteless', 'tasti', 'tater', 'tea', 'teamwork', 'teeth', 'tell', 'temp', 'ten', 'tender', 'tepid', 'terribl', 'terrif', 'textur', 'th', 'thai', 'thank', 'that', 'theft', 'thick', 'thin', 'thing', 'think', 'thinli', 'third', 'thirti', 'thoroughli', 'though', 'thought', 'three', 'thrill', 'thru', 'thu', 'thumb', 'tigerlilli', 'time', 'tini', 'tip', 'tiramisu', 'toast', 'today', 'togeth', 'told', 'toler', 'tomato', 'tongu', 'tonight', 'took', 'top', 'topic', 'toro', 'tot', 'total', 'touch', 'tough', 'toward', 'town', 'track', 'tradit', 'tragedi', 'transcend', 'trap', 'treat', 'tri', 'tribut', 'trim', 'trip', 'trippi', 'truffl', 'truli', 'tucson', 'tummi', 'tuna', 'turkey', 'turn', 'tv', 'twice', 'two', 'typic', 'unbeliev', 'undercook', 'understand', 'underwhelm', 'unexperienc', 'unfortun', 'unhealthi', 'uninspir', 'uniqu', 'unless', 'unprofession', 'unreal', 'unsatisfi', 'untoast', 'unwelcom', 'unwrap', 'updat', 'upgrad', 'upload', 'us', 'use', 'usual', 'vacant', 'vain', 'valley', 'valu', 'vanilla', 'veal', 'vega', 'vegan', 'veget', 'vegetarian', 'veggi', 'veggitarian', 'velvet', 'ventil', 'ventur', 'venu', 'verg', 'version', 'via', 'vibe', 'vinaigrett', 'vinegrett', 'violinist', 'visit', 'vodka', 'vomit', 'voodoo', 'vote', 'waaaaaayyyyyyyyyi', 'wagyu', 'wait', 'waiter', 'waitress', 'walk', 'wall', 'want', 'warm', 'warmer', 'warn', 'wash', 'wast', 'watch', 'water', 'wave', 'way', 'wayyy', 'weak', 'websit', 'wedg', 'week', 'weekend', 'weekli', 'weird', 'welcom', 'well', 'went', 'whatsoev', 'whelm', 'whenev', 'whether', 'white', 'whole', 'wide', 'wienerschnitzel', 'wife', 'wildli', 'wine', 'wing', 'winner', 'wire', 'wish', 'wit', 'without', 'wonder', 'wonton', 'word', 'work', 'worker', 'world', 'worri', 'wors', 'worst', 'worth', 'would', 'wound', 'wow', 'wrap', 'write', 'wrong', 'ya', 'yama', 'yay', 'yeah', 'year', 'yellow', 'yellowtail', 'yelper', 'yet', 'yucki', 'yukon', 'yum', 'yummi', 'zero']\n"
     ]
    }
   ],
   "source": [
    "print(cv.get_feature_names())"
   ]
  },
  {
   "cell_type": "code",
   "execution_count": 254,
   "metadata": {},
   "outputs": [],
   "source": [
    "y = data['Liked'].values"
   ]
  },
  {
   "cell_type": "code",
   "execution_count": 255,
   "metadata": {},
   "outputs": [
    {
     "name": "stdout",
     "output_type": "stream",
     "text": [
      "(750, 1565) (250, 1565) (750,) (250,)\n"
     ]
    }
   ],
   "source": [
    "from sklearn.model_selection import train_test_split\n",
    "xtrain,xtest,ytrain,ytest = train_test_split(x,y,random_state=7)\n",
    "print(xtrain.shape,xtest.shape,ytrain.shape,ytest.shape)"
   ]
  },
  {
   "cell_type": "code",
   "execution_count": 256,
   "metadata": {},
   "outputs": [
    {
     "data": {
      "text/plain": [
       "LogisticRegression()"
      ]
     },
     "execution_count": 256,
     "metadata": {},
     "output_type": "execute_result"
    }
   ],
   "source": [
    "from sklearn.linear_model import LogisticRegression\n",
    "logreg = LogisticRegression()\n",
    "logreg.fit(xtrain,ytrain)"
   ]
  },
  {
   "cell_type": "code",
   "execution_count": 257,
   "metadata": {},
   "outputs": [
    {
     "data": {
      "text/plain": [
       "KNeighborsClassifier()"
      ]
     },
     "execution_count": 257,
     "metadata": {},
     "output_type": "execute_result"
    }
   ],
   "source": [
    "from sklearn.neighbors import KNeighborsClassifier\n",
    "knn = KNeighborsClassifier()\n",
    "knn.fit(xtrain,ytrain)"
   ]
  },
  {
   "cell_type": "code",
   "execution_count": 258,
   "metadata": {},
   "outputs": [
    {
     "data": {
      "text/plain": [
       "DecisionTreeClassifier()"
      ]
     },
     "execution_count": 258,
     "metadata": {},
     "output_type": "execute_result"
    }
   ],
   "source": [
    "from sklearn.tree import DecisionTreeClassifier\n",
    "dtc = DecisionTreeClassifier()\n",
    "dtc.fit(xtrain,ytrain)"
   ]
  },
  {
   "cell_type": "code",
   "execution_count": 259,
   "metadata": {},
   "outputs": [
    {
     "data": {
      "text/plain": [
       "GaussianNB()"
      ]
     },
     "execution_count": 259,
     "metadata": {},
     "output_type": "execute_result"
    }
   ],
   "source": [
    "from sklearn.naive_bayes import GaussianNB\n",
    "gnb = GaussianNB()\n",
    "gnb.fit(xtrain,ytrain)"
   ]
  },
  {
   "cell_type": "code",
   "execution_count": 260,
   "metadata": {},
   "outputs": [
    {
     "data": {
      "text/plain": [
       "RandomForestClassifier()"
      ]
     },
     "execution_count": 260,
     "metadata": {},
     "output_type": "execute_result"
    }
   ],
   "source": [
    "from sklearn.ensemble import RandomForestClassifier\n",
    "rf = RandomForestClassifier()\n",
    "rf.fit(xtrain,ytrain)"
   ]
  },
  {
   "cell_type": "code",
   "execution_count": 261,
   "metadata": {},
   "outputs": [],
   "source": [
    "from sklearn.model_selection import cross_val_score"
   ]
  },
  {
   "cell_type": "code",
   "execution_count": 262,
   "metadata": {},
   "outputs": [
    {
     "name": "stdout",
     "output_type": "stream",
     "text": [
      "Logistic Regression : [0.72       0.82       0.74       0.83333333 0.76      ]\n",
      "KNN : [0.59333333 0.72       0.68666667 0.63333333 0.78      ]\n",
      "Decision Tree : [0.67333333 0.75333333 0.70666667 0.78666667 0.72666667]\n",
      "Gaussian NB : [0.68       0.74666667 0.67333333 0.72       0.66666667]\n",
      "Random Forest : [0.74666667 0.82       0.76666667 0.81333333 0.75333333]\n"
     ]
    }
   ],
   "source": [
    "print(\"Logistic Regression :\",cross_val_score(logreg,xtrain,ytrain,cv=5))\n",
    "print(\"KNN :\",cross_val_score(knn,xtrain,ytrain,cv=5))\n",
    "print(\"Decision Tree :\",cross_val_score(dtc,xtrain,ytrain,cv=5))\n",
    "print(\"Gaussian NB :\",cross_val_score(gnb,xtrain,ytrain,cv=5))\n",
    "print(\"Random Forest :\",cross_val_score(rf,xtrain,ytrain,cv=5))"
   ]
  },
  {
   "cell_type": "code",
   "execution_count": 263,
   "metadata": {},
   "outputs": [],
   "source": [
    "from sklearn.model_selection import cross_val_predict"
   ]
  },
  {
   "cell_type": "code",
   "execution_count": 264,
   "metadata": {},
   "outputs": [
    {
     "name": "stdout",
     "output_type": "stream",
     "text": [
      "Logistic Regression : [0 1 0 1 1 1 0 0 0 0 0 0 0 1 0 1 0 0 0 0 0 1 1 0 0 1 1 1 0 1 0 1 1 0 0 1 0\n",
      " 0 0 0 0 1 1 1 0 1 1 0 0 0 0 0 0 0 0 0 0 0 1 0 0 0 1 1 0 0 1 0 1 1 0 1 1 1\n",
      " 1 1 1 0 1 1 1 0 1 0 0 0 1 1 0 0 0 0 0 0 0 1 0 0 1 0 0 0 1 0 0 1 0 0 1 0 1\n",
      " 0 0 0 1 0 0 0 1 0 0 1 1 0 1 1 0 1 1 1 1 1 1 0 1 1 1 0 1 0 0 0 1 0 1 1 0 0\n",
      " 0 0 1 1 1 1 0 1 1 0 1 1 1 0 0 0 0 1 1 1 1 0 1 1 0 0 0 0 0 0 0 0 0 0 0 0 0\n",
      " 0 1 0 0 0 0 0 0 1 1 0 0 1 0 0 0 0 1 0 0 1 1 1 1 1 1 1 0 0 0 1 1 0 1 0 0 0\n",
      " 0 1 0 0 1 0 0 1 0 1 0 0 0 1 0 0 1 0 0 0 0 1 1 1 0 0 1 0]\n",
      "KNN : [0 0 0 0 0 0 1 0 0 1 0 0 0 0 1 0 0 0 0 0 0 0 0 0 0 0 0 0 0 1 0 0 0 0 1 1 0\n",
      " 0 0 0 0 0 1 1 0 0 1 0 0 0 0 1 0 0 1 0 0 0 1 0 0 0 0 0 1 0 1 0 0 1 0 1 1 0\n",
      " 0 0 0 0 0 1 0 1 0 1 0 1 1 1 0 0 1 0 1 1 0 1 0 0 1 0 0 0 0 0 0 0 0 0 0 0 0\n",
      " 0 1 1 1 1 1 1 1 0 1 1 1 1 1 1 1 0 0 0 1 1 1 0 1 0 0 1 1 0 0 0 0 1 0 1 1 0\n",
      " 0 0 0 0 1 0 0 0 1 0 1 0 0 0 0 0 0 0 0 0 0 0 0 0 0 0 0 0 0 1 0 0 0 0 0 0 0\n",
      " 0 0 0 0 1 0 0 0 1 1 0 0 1 0 1 0 0 0 0 1 0 1 0 1 0 0 1 0 0 1 0 1 0 1 0 1 0\n",
      " 0 0 0 0 0 1 1 1 0 1 0 0 0 1 0 1 0 0 0 0 0 0 0 0 0 1 1 0]\n",
      "Decision Tree : [0 1 0 0 0 1 0 0 0 0 0 1 0 0 0 0 0 0 1 0 0 0 0 1 0 1 0 1 0 1 0 0 0 0 0 1 0\n",
      " 1 0 0 0 1 1 1 0 0 0 0 0 0 0 1 0 0 1 0 1 1 0 0 1 0 1 1 0 0 1 0 0 0 0 1 1 1\n",
      " 0 1 1 0 0 1 0 1 1 0 0 0 1 1 0 0 0 0 0 0 0 1 1 0 1 0 0 0 0 0 0 0 0 0 1 0 1\n",
      " 1 0 0 1 1 0 0 0 0 0 1 1 1 1 1 0 1 0 1 1 1 1 0 1 0 0 0 1 0 0 0 0 0 1 1 1 0\n",
      " 0 0 0 1 0 1 0 1 1 0 1 1 0 0 0 0 0 0 1 0 0 1 0 0 0 0 0 0 0 0 0 0 1 0 1 0 0\n",
      " 0 0 0 0 1 0 1 0 1 0 0 0 1 0 0 0 0 0 0 0 0 1 1 0 0 1 1 1 0 0 1 0 0 1 0 0 0\n",
      " 0 1 0 0 1 0 0 1 1 1 0 0 0 1 0 0 0 0 0 0 0 0 0 0 1 0 1 0]\n",
      "Gaussian NB : [0 1 1 1 1 1 0 1 0 0 1 1 1 1 0 1 1 0 1 1 1 1 1 1 1 1 1 1 0 1 1 1 1 1 0 1 0\n",
      " 0 0 0 1 1 1 1 1 1 1 0 0 1 0 1 0 0 0 0 0 1 1 0 1 0 1 1 0 0 1 1 1 1 0 1 1 1\n",
      " 1 1 1 0 1 1 1 0 1 0 0 1 1 1 0 1 0 0 0 0 0 1 1 0 0 0 0 1 1 1 0 1 1 1 1 0 1\n",
      " 1 0 0 1 0 1 1 1 1 0 0 1 1 1 1 0 1 1 1 1 1 1 1 1 1 1 1 0 0 0 0 1 0 1 1 0 0\n",
      " 0 0 1 1 0 1 0 0 1 1 1 1 1 1 0 0 1 1 1 1 1 0 1 1 1 0 0 0 1 0 1 1 0 1 0 0 1\n",
      " 1 1 0 1 1 1 0 1 1 0 1 1 0 1 0 1 0 1 1 1 1 1 1 1 1 0 1 1 1 0 0 1 0 1 0 0 0\n",
      " 1 1 1 0 1 1 0 0 1 1 1 0 0 1 0 1 1 1 0 1 0 1 1 1 0 0 0 0]\n",
      "Random Forest : [0 1 0 0 0 1 0 0 0 0 0 0 0 0 0 0 0 0 1 0 0 0 0 0 0 1 0 1 0 1 0 0 1 0 0 1 0\n",
      " 1 0 0 0 0 1 1 0 0 0 0 0 0 0 1 0 0 0 0 1 1 0 0 0 0 0 1 0 0 1 0 0 1 0 1 1 1\n",
      " 0 0 1 0 0 1 0 0 1 0 0 0 1 1 0 0 0 0 0 0 0 1 0 0 1 0 0 0 0 0 0 0 0 0 0 0 0\n",
      " 1 0 0 1 0 0 0 1 0 0 1 1 1 1 1 0 1 1 1 1 1 1 0 1 0 1 0 1 0 0 0 0 0 1 1 0 0\n",
      " 0 0 0 1 1 1 0 0 1 0 1 0 0 0 0 0 0 0 0 0 0 0 1 0 1 0 0 0 0 0 0 0 0 0 0 0 0\n",
      " 0 0 0 0 0 0 0 0 1 1 0 0 1 0 0 0 0 0 0 0 1 1 0 0 0 1 0 0 0 0 0 0 0 1 0 0 0\n",
      " 0 1 0 0 1 0 0 0 0 1 0 0 0 1 0 0 1 0 0 0 0 0 0 1 1 0 1 0]\n"
     ]
    }
   ],
   "source": [
    "print(\"Logistic Regression :\",cross_val_predict(logreg,xtest,ytest,cv=5))\n",
    "print(\"KNN :\",cross_val_predict(knn,xtest,ytest,cv=5))\n",
    "print(\"Decision Tree :\",cross_val_predict(dtc,xtest,ytest,cv=5))\n",
    "print(\"Gaussian NB :\",cross_val_predict(gnb,xtest,ytest,cv=5))\n",
    "print(\"Random Forest :\",cross_val_predict(rf,xtest,ytest,cv=5))"
   ]
  },
  {
   "cell_type": "code",
   "execution_count": 265,
   "metadata": {},
   "outputs": [],
   "source": [
    "ypred_log = cross_val_predict(logreg,xtest,ytest,cv=5)\n",
    "ypred_knn = cross_val_predict(knn,xtest,ytest,cv=5)\n",
    "ypred_dtc = cross_val_predict(dtc,xtest,ytest,cv=5)\n",
    "ypred_gnb = cross_val_predict(gnb,xtest,ytest,cv=5)\n",
    "ypred_rf = cross_val_predict(rf,xtest,ytest,cv=5)"
   ]
  },
  {
   "cell_type": "code",
   "execution_count": 266,
   "metadata": {},
   "outputs": [],
   "source": [
    "from sklearn.metrics import accuracy_score, confusion_matrix, precision_score,recall_score"
   ]
  },
  {
   "cell_type": "code",
   "execution_count": 267,
   "metadata": {},
   "outputs": [
    {
     "name": "stdout",
     "output_type": "stream",
     "text": [
      "Logistic Regression : 0.668\n",
      "KNN : 0.504\n",
      "Decision Tree : 0.588\n",
      "Gaussian NB : 0.624\n",
      "Random Forest : 0.6\n"
     ]
    }
   ],
   "source": [
    "print(\"Logistic Regression :\",accuracy_score(ytest,ypred_log))\n",
    "print(\"KNN :\",accuracy_score(ytest,ypred_knn))\n",
    "print(\"Decision Tree :\",accuracy_score(ytest,ypred_dtc))\n",
    "print(\"Gaussian NB :\",accuracy_score(ytest,ypred_gnb))\n",
    "print(\"Random Forest :\",accuracy_score(ytest,ypred_rf))"
   ]
  },
  {
   "cell_type": "code",
   "execution_count": 268,
   "metadata": {},
   "outputs": [
    {
     "name": "stdout",
     "output_type": "stream",
     "text": [
      "Logistic Regression : [[99 35]\n",
      " [48 68]]\n",
      "KNN : [[92 42]\n",
      " [82 34]]\n",
      "Decision Tree : [[100  34]\n",
      " [ 69  47]]\n",
      "Gaussian NB : [[67 67]\n",
      " [27 89]]\n",
      "Random Forest : [[109  25]\n",
      " [ 75  41]]\n"
     ]
    }
   ],
   "source": [
    "print(\"Logistic Regression :\",confusion_matrix(ytest,ypred_log))\n",
    "print(\"KNN :\",confusion_matrix(ytest,ypred_knn))\n",
    "print(\"Decision Tree :\",confusion_matrix(ytest,ypred_dtc))\n",
    "print(\"Gaussian NB :\",confusion_matrix(ytest,ypred_gnb))\n",
    "print(\"Random Forest :\",confusion_matrix(ytest,ypred_rf))"
   ]
  },
  {
   "cell_type": "code",
   "execution_count": 269,
   "metadata": {},
   "outputs": [],
   "source": [
    "from sklearn.metrics import auc"
   ]
  },
  {
   "cell_type": "code",
   "execution_count": 270,
   "metadata": {},
   "outputs": [],
   "source": [
    "ypred_log = cross_val_predict(logreg,xtest,ytest,cv=5,method='decision_function')\n",
    "ypred_knn = cross_val_predict(knn,xtest,ytest,cv=5,method='predict_proba')\n",
    "ypred_knn = ypred_knn[:,1]\n",
    "ypred_dtc = cross_val_predict(dtc,xtest,ytest,cv=5,method='predict_proba')\n",
    "ypred_dtc = ypred_dtc[:,1]\n",
    "ypred_gnb = cross_val_predict(gnb,xtest,ytest,cv=5,method='predict_proba')\n",
    "ypred_gnb = ypred_gnb[:,1] \n",
    "ypred_rf = cross_val_predict(rf,xtest,ytest,cv=5,method='predict_proba')\n",
    "ypred_rf = ypred_rf[:,1]"
   ]
  },
  {
   "cell_type": "code",
   "execution_count": 271,
   "metadata": {},
   "outputs": [
    {
     "name": "stdout",
     "output_type": "stream",
     "text": [
      "Logistic Regression : 0.6936116829644879\n"
     ]
    },
    {
     "data": {
      "image/png": "[encoded data removed]",
      "text/plain": [
       "<Figure size 1080x576 with 1 Axes>"
      ]
     },
     "metadata": {
      "needs_background": "light"
     },
     "output_type": "display_data"
    }
   ],
   "source": [
    "from sklearn.metrics import roc_curve,roc_auc_score\n",
    "fpr, tpr, thresholds = roc_curve(ytest,ypred_log)\n",
    "plt.plot(fpr,tpr)\n",
    "\n",
    "plt.xlim([0.0,1.0])\n",
    "plt.ylim([0.0,1.0])\n",
    "\n",
    "plt.plot([0,1],[0,1],'r--')\n",
    "\n",
    "plt.title('ROC Curve for Logistic Regression Model')\n",
    "plt.xlabel('False positive rate (1-Specificity)', fontsize = 12)\n",
    "plt.ylabel('True positive rate (Sensitivity)', fontsize = 12)\n",
    "\n",
    "plt.text(x = 0.02, y = 0.9, s = ('AUC Score:', round(roc_auc_score(ytest, ypred_log),4)))\n",
    "\n",
    "plt.grid(True)\n",
    "print(\"Logistic Regression :\",auc(fpr,tpr))"
   ]
  },
  {
   "cell_type": "code",
   "execution_count": 272,
   "metadata": {},
   "outputs": [
    {
     "name": "stdout",
     "output_type": "stream",
     "text": [
      "KNN : 0.539468605249614\n"
     ]
    },
    {
     "data": {
      "image/png": "[encoded data removed]",
      "text/plain": [
       "<Figure size 1080x576 with 1 Axes>"
      ]
     },
     "metadata": {
      "needs_background": "light"
     },
     "output_type": "display_data"
    }
   ],
   "source": [
    "fpr, tpr, thresholds = roc_curve(ytest,ypred_knn)\n",
    "plt.plot(fpr,tpr)\n",
    "\n",
    "plt.xlim([0.0,1.0])\n",
    "plt.ylim([0.0,1.0])\n",
    "\n",
    "plt.plot([0,1],[0,1],'r--')\n",
    "\n",
    "plt.title('ROC Curve for KNN Model')\n",
    "plt.xlabel('False positive rate (1-Specificity)', fontsize = 12)\n",
    "plt.ylabel('True positive rate (Sensitivity)', fontsize = 12)\n",
    "\n",
    "plt.text(x = 0.02, y = 0.9, s = ('AUC Score:', round(roc_auc_score(ytest, ypred_knn),4)))\n",
    "\n",
    "plt.grid(True)\n",
    "print(\"KNN :\",auc(fpr,tpr))"
   ]
  },
  {
   "cell_type": "code",
   "execution_count": 273,
   "metadata": {},
   "outputs": [
    {
     "name": "stdout",
     "output_type": "stream",
     "text": [
      "Decision Tree : 0.5404014410705096\n"
     ]
    },
    {
     "data": {
      "image/png": "[encoded data removed]",
      "text/plain": [
       "<Figure size 1080x576 with 1 Axes>"
      ]
     },
     "metadata": {
      "needs_background": "light"
     },
     "output_type": "display_data"
    }
   ],
   "source": [
    "fpr, tpr, thresholds = roc_curve(ytest,ypred_dtc)\n",
    "plt.plot(fpr,tpr)\n",
    "\n",
    "plt.xlim([0.0,1.0])\n",
    "plt.ylim([0.0,1.0])\n",
    "\n",
    "plt.plot([0,1],[0,1],'r--')\n",
    "\n",
    "plt.title('ROC Curve for Decision Tree Model')\n",
    "plt.xlabel('False positive rate (1-Specificity)', fontsize = 12)\n",
    "plt.ylabel('True positive rate (Sensitivity)', fontsize = 12)\n",
    "\n",
    "plt.text(x = 0.02, y = 0.9, s = ('AUC Score:', round(roc_auc_score(ytest, ypred_dtc),4)))\n",
    "\n",
    "plt.grid(True)\n",
    "print(\"Decision Tree :\",auc(fpr,tpr))"
   ]
  },
  {
   "cell_type": "code",
   "execution_count": 274,
   "metadata": {},
   "outputs": [
    {
     "name": "stdout",
     "output_type": "stream",
     "text": [
      "Naive Bayes: 0.6336206896551724\n"
     ]
    },
    {
     "data": {
      "image/png": "[encoded data removed]",
      "text/plain": [
       "<Figure size 1080x576 with 1 Axes>"
      ]
     },
     "metadata": {
      "needs_background": "light"
     },
     "output_type": "display_data"
    }
   ],
   "source": [
    "fpr, tpr, thresholds = roc_curve(ytest,ypred_gnb)\n",
    "plt.plot(fpr,tpr)\n",
    "\n",
    "plt.xlim([0.0,1.0])\n",
    "plt.ylim([0.0,1.0])\n",
    "\n",
    "plt.plot([0,1],[0,1],'r--')\n",
    "\n",
    "plt.title('ROC Curve for Naive Bayes Model')\n",
    "plt.xlabel('False positive rate (1-Specificity)', fontsize = 12)\n",
    "plt.ylabel('True positive rate (Sensitivity)', fontsize = 12)\n",
    "\n",
    "plt.text(x = 0.02, y = 0.9, s = ('AUC Score:', round(roc_auc_score(ytest, ypred_gnb),4)))\n",
    "\n",
    "plt.grid(True)\n",
    "print(\"Naive Bayes:\",auc(fpr,tpr))"
   ]
  },
  {
   "cell_type": "code",
   "execution_count": 275,
   "metadata": {
    "scrolled": false
   },
   "outputs": [
    {
     "name": "stdout",
     "output_type": "stream",
     "text": [
      "Random Forest : 0.6351003602676274\n"
     ]
    },
    {
     "data": {
      "image/png": "[encoded data removed]",
      "text/plain": [
       "<Figure size 1080x576 with 1 Axes>"
      ]
     },
     "metadata": {
      "needs_background": "light"
     },
     "output_type": "display_data"
    }
   ],
   "source": [
    "fpr, tpr, thresholds = roc_curve(ytest,ypred_rf)\n",
    "plt.plot(fpr,tpr)\n",
    "\n",
    "plt.xlim([0.0,1.0])\n",
    "plt.ylim([0.0,1.0])\n",
    "\n",
    "plt.plot([0,1],[0,1],'r--')\n",
    "\n",
    "plt.title('ROC Curve for Random Forest Model')\n",
    "plt.xlabel('False positive rate (1-Specificity)', fontsize = 12)\n",
    "plt.ylabel('True positive rate (Sensitivity)', fontsize = 12)\n",
    "\n",
    "plt.text(x = 0.02, y = 0.9, s = ('AUC Score:', round(roc_auc_score(ytest, ypred_rf),4)))\n",
    "\n",
    "plt.grid(True)\n",
    "print(\"Random Forest :\",auc(fpr,tpr))"
   ]
  },
  {
   "cell_type": "markdown",
   "metadata": {},
   "source": [
    "Note: If you wanted to create a classification project then\n",
    "apart from the aforementioned code, plot a couple of graphs,\n",
    "get auc score and you are done. BUT (IN CAPITAL LETTERS)\n",
    "\n",
    "Project != Product\n",
    "\n",
    "Product has to be deployed somewhere. Popular deployment\n",
    "mediums are:\n",
    "   1. Cloud (AWS, AZURE, WATSON)\n",
    "   2. Browser (Javascript, Django, Flask)\n",
    "   3. Mobile Device (Android, IOS)\n",
    "   4. IOT or Arduino\n",
    "    \n",
    "Basically, we want to create a system where user inputs a \n",
    "feedback or review and the system outputs a positive or\n",
    "negative symbol."
   ]
  },
  {
   "cell_type": "code",
   "execution_count": 297,
   "metadata": {},
   "outputs": [],
   "source": [
    "def run():\n",
    "    print('Please give us your Feedback!')\n",
    "    str1 = input()\n",
    "    str1 = [str1]\n",
    "    x_str = cv.transform(str1)\n",
    "    x_str = x_str.toarray()\n",
    "    y_str = logreg.predict(x_str)\n",
    "    y_str = y_str[0]\n",
    "    if y_str == 1:\n",
    "        print('Logistic Regression says --> Yay! Positive Review')\n",
    "    else:\n",
    "        print('Logistic Regression says --> Negative Review! Our Apologies')\n",
    "    \n",
    "    y_str_knn = knn.predict(x_str)\n",
    "    y_str_knn = y_str_knn[0]\n",
    "    \n",
    "    if y_str_knn == 1:\n",
    "        print(\"KNN says --> Yayy! Positive Review\")\n",
    "    else:\n",
    "        print(\"KNN says --> Negative Review! Our Apologies!\")\n",
    "    \n",
    "    y_str_dtc = dtc.predict(x_str)\n",
    "    y_str_dtc = y_str_dtc[0]\n",
    "    \n",
    "    if y_str_dtc == 1:\n",
    "        print(\"Decision Tree says --> Yayy! Positive Review\")\n",
    "    else:\n",
    "        print(\"Decision Tree says --> Negative Review! Our Apologies!\")\n",
    "    \n",
    "    y_str_gnb = gnb.predict(x_str)\n",
    "    y_str_gnb = y_str_gnb[0]\n",
    "    \n",
    "    if y_str_gnb == 1:\n",
    "        print(\"Guassian NB says --> Yayy! Positive Review\")\n",
    "    else:\n",
    "        print(\"Guassian NB says --> Negative Review! Our Apologies!\")\n",
    "    \n",
    "    y_str_rf = rf.predict(x_str)\n",
    "    y_str_rf = y_str_rf[0]\n",
    "    \n",
    "    if y_str_rf == 1:\n",
    "        print(\"Random Forest says --> Yayy! Positive Review\")\n",
    "    else:\n",
    "        print(\"Random Forest says --> Negative Review! Our Apologies!\")\n",
    "    \n",
    "    total_y = (y_str + y_str_knn + y_str_dtc + y_str_gnb + y_str_rf)/5\n",
    "    total_y = np.abs(total_y)\n",
    "    print(total_y)"
   ]
  },
  {
   "cell_type": "code",
   "execution_count": 298,
   "metadata": {},
   "outputs": [
    {
     "name": "stdout",
     "output_type": "stream",
     "text": [
      "Please give us your Feedback!\n",
      "Good Food\n",
      "Logistic Regression says --> Yay! Positive Review\n",
      "KNN says --> Yayy! Positive Review\n",
      "Decision Tree says --> Yayy! Positive Review\n",
      "Guassian NB says --> Yayy! Positive Review\n",
      "Random Forest says --> Yayy! Positive Review\n",
      "1.0\n"
     ]
    }
   ],
   "source": [
    "run()"
   ]
  }
 ],
 "metadata": {
  "kernelspec": {
   "display_name": "Python 3",
   "language": "python",
   "name": "python3"
  },
  "language_info": {
   "codemirror_mode": {
    "name": "ipython",
    "version": 3
   },
   "file_extension": ".py",
   "mimetype": "text/x-python",
   "name": "python",
   "nbconvert_exporter": "python",
   "pygments_lexer": "ipython3",
   "version": "3.7.9"
  }
 },
 "nbformat": 4,
 "nbformat_minor": 4
}
